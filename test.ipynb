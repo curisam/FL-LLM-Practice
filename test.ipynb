{
 "cells": [
  {
   "cell_type": "code",
   "execution_count": 1,
   "id": "a2130952",
   "metadata": {},
   "outputs": [
    {
     "name": "stdout",
     "output_type": "stream",
     "text": [
      "Requirement already satisfied: scikit-learn in /home/seongyoon/anaconda3/envs/flexlora/lib/python3.9/site-packages (1.6.1)\n",
      "Requirement already satisfied: numpy>=1.19.5 in /home/seongyoon/anaconda3/envs/flexlora/lib/python3.9/site-packages (from scikit-learn) (1.26.1)\n",
      "Requirement already satisfied: scipy>=1.6.0 in /home/seongyoon/anaconda3/envs/flexlora/lib/python3.9/site-packages (from scikit-learn) (1.13.1)\n",
      "Requirement already satisfied: joblib>=1.2.0 in /home/seongyoon/anaconda3/envs/flexlora/lib/python3.9/site-packages (from scikit-learn) (1.5.0)\n",
      "Requirement already satisfied: threadpoolctl>=3.1.0 in /home/seongyoon/anaconda3/envs/flexlora/lib/python3.9/site-packages (from scikit-learn) (3.6.0)\n"
     ]
    }
   ],
   "source": [
    "!pip install scikit-learn\n",
    "\n",
    "import copy\n",
    "\n",
    "from federatedscope.core.configs.config import CN\n",
    "from federatedscope.register import register_config\n",
    "from federatedscope.core.configs.yacs_config import Argument"
   ]
  },
  {
   "cell_type": "code",
   "execution_count": 2,
   "id": "7d2afd44",
   "metadata": {},
   "outputs": [
    {
     "name": "stdout",
     "output_type": "stream",
     "text": [
      "__cfg_check_funcs__: []\n",
      "__help_info__: {}\n",
      "flag: True\n",
      "is_ready_for_run: False\n",
      "learning_rate: 0.001\n",
      "optimizer:\n",
      "  __cfg_check_funcs__: []\n",
      "  __help_info__: {}\n",
      "  is_ready_for_run: False\n",
      "  type: SGD\n",
      "  use: False\n"
     ]
    }
   ],
   "source": [
    "# 1) 기본 cfg 정의\n",
    "cfg = CN({\n",
    "    'learning_rate': 0.001,\n",
    "    'optimizer': CN({'use': False, 'type': 'SGD'}),\n",
    "    'flag': Argument(\n",
    "        description='do special',\n",
    "        required=False,\n",
    "        default_value=True\n",
    "    )\n",
    "})\n",
    "\n",
    "\n",
    "print(cfg)\n",
    "\n",
    "\n",
    "# 2) 검사 함수 등록\n",
    "def prune_opt(cfg):\n",
    "    if not cfg.optimizer.use and hasattr(cfg.optimizer, 'type'):\n",
    "        delattr(cfg.optimizer, 'type')\n",
    "\n",
    "\n"
   ]
  },
  {
   "cell_type": "code",
   "execution_count": 3,
   "id": "a3bb6788",
   "metadata": {},
   "outputs": [
    {
     "name": "stdout",
     "output_type": "stream",
     "text": [
      "__cfg_check_funcs__: [<function prune_opt at 0x7f8cfb9aedc0>]\n",
      "__help_info__: {}\n",
      "flag: True\n",
      "is_ready_for_run: False\n",
      "learning_rate: 0.001\n",
      "optimizer:\n",
      "  __cfg_check_funcs__: []\n",
      "  __help_info__: {}\n",
      "  is_ready_for_run: False\n",
      "  type: SGD\n",
      "  use: False\n"
     ]
    }
   ],
   "source": [
    "cfg.register_cfg_check_fun(prune_opt)\n",
    "\n",
    "\n",
    "print(cfg)\n",
    "\n"
   ]
  },
  {
   "cell_type": "code",
   "execution_count": 4,
   "id": "6e7c63cf",
   "metadata": {},
   "outputs": [
    {
     "name": "stdout",
     "output_type": "stream",
     "text": [
      "__cfg_check_funcs__: [<function prune_opt at 0x7f8cfb9aedc0>]\n",
      "__help_info__: {'flag': 'do special'}\n",
      "flag: True\n",
      "is_ready_for_run: False\n",
      "learning_rate: 0.02\n",
      "optimizer:\n",
      "  __cfg_check_funcs__: []\n",
      "  __help_info__: {}\n",
      "  is_ready_for_run: False\n",
      "  use: False\n"
     ]
    }
   ],
   "source": [
    "# 3) 병합·검사·실행 준비\n",
    "cfg.merge_from_list(['learning_rate','0.02'])\n",
    "\n",
    "print(cfg)\n",
    "\n",
    "\n"
   ]
  },
  {
   "cell_type": "code",
   "execution_count": 5,
   "id": "0c1fc8e6",
   "metadata": {},
   "outputs": [
    {
     "name": "stdout",
     "output_type": "stream",
     "text": [
      "__cfg_check_funcs__: [<function prune_opt at 0x7f8cfb9aedc0>]\n",
      "__help_info__: {'flag': 'do special'}\n",
      "flag: True\n",
      "is_ready_for_run: False\n",
      "learning_rate: 0.02\n",
      "optimizer:\n",
      "  use: False\n",
      "<class 'federatedscope.core.configs.yacs_config.Argument'>\n"
     ]
    }
   ],
   "source": [
    "cfg.clean_unused_sub_cfgs()\n",
    "print(cfg)\n",
    "print(type(cfg.flag))\n"
   ]
  },
  {
   "cell_type": "code",
   "execution_count": 6,
   "id": "4b362501",
   "metadata": {},
   "outputs": [
    {
     "name": "stdout",
     "output_type": "stream",
     "text": [
      "__cfg_check_funcs__: [<function prune_opt at 0x7f8cfb9aedc0>]\n",
      "__help_info__: {'flag': 'do special'}\n",
      "flag: True\n",
      "is_ready_for_run: False\n",
      "learning_rate: 0.02\n",
      "optimizer:\n",
      "  use: False\n",
      "<class 'bool'>\n"
     ]
    }
   ],
   "source": [
    "cfg.de_arguments()\n",
    "print(cfg)\n",
    "print(type(cfg.flag))\n",
    "\n"
   ]
  },
  {
   "cell_type": "code",
   "execution_count": 7,
   "id": "fad1ec56",
   "metadata": {},
   "outputs": [
    {
     "name": "stdout",
     "output_type": "stream",
     "text": [
      "__cfg_check_funcs__: [<function prune_opt at 0x7f8cfb9aedc0>]\n",
      "__help_info__: {'flag': 'do special'}\n",
      "flag: True\n",
      "is_ready_for_run: True\n",
      "learning_rate: 0.02\n",
      "optimizer:\n",
      "  use: False\n"
     ]
    }
   ],
   "source": [
    "# 4) 동결 및 저장\n",
    "cfg.freeze(save=False)            # outdir/config.yaml 에 최종 설정 기록\n",
    "print(cfg)"
   ]
  },
  {
   "cell_type": "code",
   "execution_count": 14,
   "id": "8d9658ac",
   "metadata": {},
   "outputs": [
    {
     "name": "stdout",
     "output_type": "stream",
     "text": [
      "=== __dict__ 초기 상태 ===\n",
      "{'__immutable__': False, '__deprecated_keys__': set(), '__renamed_keys__': {}, '__new_allowed__': False}\n"
     ]
    }
   ],
   "source": [
    "import copy\n",
    "from federatedscope.core.configs.config import CN, Argument\n",
    "\n",
    "# 1) 간단한 설정 딕셔너리로 CN 객체 생성\n",
    "cfg = CN({\n",
    "    'alpha': 0.1,\n",
    "    'beta': 0.2,\n",
    "    'nested': CN({\n",
    "        'use': True,\n",
    "        'param': 123\n",
    "    }),\n",
    "    'flag': Argument(description='test flag', required=False, default_value=False)\n",
    "})\n",
    "\n",
    "print(\"=== __dict__ 초기 상태 ===\")\n",
    "# 내부 속성 확인\n",
    "print({k: v for k, v in cfg.__dict__.items()})\n",
    "\n",
    "\n",
    "\n",
    "\n",
    "\n"
   ]
  },
  {
   "cell_type": "code",
   "execution_count": 15,
   "id": "b8a06cc6",
   "metadata": {},
   "outputs": [
    {
     "name": "stdout",
     "output_type": "stream",
     "text": [
      "__cfg_check_funcs__: []\n",
      "__help_info__: {}\n",
      "alpha: 0.1\n",
      "beta: 0.2\n",
      "flag: False\n",
      "is_ready_for_run: False\n",
      "nested:\n",
      "  __cfg_check_funcs__: []\n",
      "  __help_info__: {}\n",
      "  is_ready_for_run: False\n",
      "  param: 123\n",
      "  use: True\n"
     ]
    }
   ],
   "source": [
    "# 잘 보이는 방법 1\n",
    "print(cfg)  \n",
    "# → alpha=0.1, beta=0.2, nested.use=True, nested.param=123, flag=Argument(...)\n",
    "\n"
   ]
  },
  {
   "cell_type": "code",
   "execution_count": 19,
   "id": "b3083a6d",
   "metadata": {},
   "outputs": [
    {
     "name": "stdout",
     "output_type": "stream",
     "text": [
      "__cfg_check_funcs__: []\n",
      "__help_info__: {}\n",
      "alpha: 0.1\n",
      "beta: 0.2\n",
      "flag: false\n",
      "is_ready_for_run: false\n",
      "nested:\n",
      "  __cfg_check_funcs__: []\n",
      "  __help_info__: {}\n",
      "  is_ready_for_run: false\n",
      "  param: 123\n",
      "  use: true\n",
      "\n",
      "alpha: 0.1\n",
      "beta: 0.2\n",
      "flag: False\n",
      "nested:\n",
      "  param: 123\n",
      "  use: True\n"
     ]
    }
   ],
   "source": [
    "# 잘 보이는 방법 2\n",
    "cfg.de_arguments()\n",
    "\n",
    "print(cfg.dump())  \n",
    "\n",
    "cfg.clear_aux_info()\n",
    "\n",
    "print(cfg)\n",
    "\n"
   ]
  },
  {
   "cell_type": "code",
   "execution_count": null,
   "id": "c019f384",
   "metadata": {},
   "outputs": [
    {
     "name": "stdout",
     "output_type": "stream",
     "text": [
      "\n",
      "alpha via dot: 0.1\n",
      "존재하지 않는 속성 접근 시: gamma\n",
      "\n",
      "=== 'beta' 삭제 전 keys === ['alpha', 'beta', 'nested', 'flag']\n",
      "=== 'beta' 삭제 후 keys ===  ['alpha', 'nested', 'flag']\n",
      "\n",
      "=== clear_aux_info 전 __dict__ 요소 ===\n",
      "{}\n",
      "\n",
      "=== clear_aux_info 후 __dict__ 요소 ===\n",
      "{}\n"
     ]
    }
   ],
   "source": [
    "# 2) __getattr__ 테스트: 기존 키와 존재하지 않는 키\n",
    "print(\"\\nalpha via dot:\", cfg.alpha)\n",
    "try:\n",
    "    print(\"gamma via dot:\", cfg.gamma)\n",
    "except AttributeError as e:\n",
    "    print(\"존재하지 않는 속성 접근 시:\", e)\n",
    "\n",
    "# 3) __delattr__ 테스트: beta 삭제\n",
    "print(\"\\n=== 'beta' 삭제 전 keys ===\", list(cfg.keys()))\n",
    "del cfg.beta\n",
    "print(\"=== 'beta' 삭제 후 keys === \", list(cfg.keys()))\n",
    "\n"
   ]
  },
  {
   "cell_type": "code",
   "execution_count": null,
   "id": "704eb1e3",
   "metadata": {},
   "outputs": [],
   "source": []
  },
  {
   "cell_type": "code",
   "execution_count": 11,
   "id": "49393178",
   "metadata": {},
   "outputs": [
    {
     "name": "stderr",
     "output_type": "stream",
     "text": [
      "2025-06-12 03:13:12,575 (config:182)WARNING: You have not set the required argument must_set\n",
      "2025-06-12 03:13:12,577 (config:182)WARNING: You have not set the required argument must_set\n"
     ]
    },
    {
     "name": "stdout",
     "output_type": "stream",
     "text": [
      "=== 전체 옵션 도움말 ===\n",
      "\n",
      "=== learning_rate 도움말 ===\n",
      "\n",
      "=== learning_rate 도움말 ===\n",
      "  --special_flag \t run in special mode\n",
      "\n",
      "=== check_required_args 실행 (warning 발생 예상) ===\n",
      "\n",
      "=== ready_for_run 실행 전 ===\n",
      "__cfg_check_funcs__: [<function prune_optimizer at 0x7ff1b01f49d0>, <function clamp_lr at 0x7fefa5302ca0>]\n",
      "__help_info__: {'special_flag': 'run in special mode'}\n",
      "batch_size: 32\n",
      "is_ready_for_run: False\n",
      "learning_rate: 0.001\n",
      "must_set: Required(NoneType)\n",
      "optimizer:\n",
      "  __cfg_check_funcs__: []\n",
      "  __help_info__: {}\n",
      "  is_ready_for_run: False\n",
      "  momentum: 0.9\n",
      "  type: SGD\n",
      "  use: False\n",
      "outdir: ./exp_test\n",
      "special_flag: True\n",
      "wandb:\n",
      "  __cfg_check_funcs__: []\n",
      "  __help_info__: {}\n",
      "  is_ready_for_run: False\n",
      "  project: demo\n",
      "  use: False\n",
      "\n",
      "=== ready_for_run 실행 후 ===\n",
      "__cfg_check_funcs__: [<function prune_optimizer at 0x7ff1b01f49d0>, <function clamp_lr at 0x7fefa5302ca0>]\n",
      "__help_info__: {'special_flag': 'run in special mode'}\n",
      "batch_size: 32\n",
      "is_ready_for_run: True\n",
      "learning_rate: 0.01\n",
      "must_set: None\n",
      "optimizer:\n",
      "  use: False\n",
      "outdir: ./exp_test\n",
      "special_flag: True\n",
      "wandb:\n",
      "  use: False\n",
      "** 경고: './exp_test' 디렉토리가 이미 존재합니다. 삭제 후 다시 시도하세요.\n"
     ]
    }
   ],
   "source": [
    "import copy\n",
    "import os\n",
    "from pathlib import Path\n",
    "\n",
    "from federatedscope.core.configs.config import CN, Argument\n",
    "import logging\n",
    "logging.basicConfig(level=logging.WARNING)\n",
    "\n",
    "def set_help_info(cn_node, help_info_dict, prefix=\"\"):\n",
    "    for k, v in cn_node.items():\n",
    "        if isinstance(v, Argument) and k not in help_info_dict:\n",
    "            help_info_dict[prefix + k] = v.description\n",
    "        elif isinstance(v, CN):\n",
    "            set_help_info(v,\n",
    "                          help_info_dict,\n",
    "                          prefix=f\"{k}.\" if prefix == \"\" else f\"{prefix}{k}.\")\n",
    "\n",
    "# ────────────────────────────────────────────────────────────────────────\n",
    "# 1) 베이스 CN 객체 정의\n",
    "# ────────────────────────────────────────────────────────────────────────\n",
    "base_cfg = CN({\n",
    "    'learning_rate': 0.001,\n",
    "    'batch_size': 32,\n",
    "    'optimizer': CN({\n",
    "        'use': False,\n",
    "        'type': 'SGD',\n",
    "        'momentum': 0.9\n",
    "    }),\n",
    "    'special_flag': Argument(\n",
    "        description='run in special mode',\n",
    "        required=False,\n",
    "        default_value=True\n",
    "    ),\n",
    "    # outdir/wandb 같은 일반적인 필드도 미리 추가해 줍니다\n",
    "    'outdir': './exp_test',\n",
    "    'wandb': CN({\n",
    "        'use': False,\n",
    "        'project': 'demo'\n",
    "    })\n",
    "})\n",
    "\n",
    "# ────────────────────────────────────────────────────────────────────────\n",
    "# 2) 검사 함수 정의 및 등록\n",
    "# ────────────────────────────────────────────────────────────────────────\n",
    "def prune_optimizer(cfg):\n",
    "    if not cfg.optimizer.use:\n",
    "        for k in list(cfg.optimizer.keys()):\n",
    "            if k != 'use':\n",
    "                delattr(cfg.optimizer, k)\n",
    "\n",
    "def clamp_lr(cfg):\n",
    "    if cfg.learning_rate < 0.01:\n",
    "        cfg.learning_rate = 0.01\n",
    "\n",
    "base_cfg.register_cfg_check_fun(prune_optimizer)\n",
    "base_cfg.register_cfg_check_fun(clamp_lr)\n",
    "\n",
    "# ────────────────────────────────────────────────────────────────────────\n",
    "# 3) 도움말 출력 (print_help)\n",
    "# ────────────────────────────────────────────────────────────────────────\n",
    "print(\"=== 전체 옵션 도움말 ===\")\n",
    "base_cfg.print_help()\n",
    "\n",
    "print(\"\\n=== learning_rate 도움말 ===\")\n",
    "base_cfg.print_help('learning_rate')\n",
    "\n",
    "print(\"\\n=== learning_rate 도움말 ===\")\n",
    "# (2) set_help_info 로 __help_info__ 재생성\n",
    "set_help_info(base_cfg, base_cfg.__help_info__)\n",
    "\n",
    "# (3) 이제 도움말 출력\n",
    "base_cfg.print_help()\n",
    "\n",
    "# ────────────────────────────────────────────────────────────────────────\n",
    "# 4) 필수 인자 체크 (check_required_args)\n",
    "# ────────────────────────────────────────────────────────────────────────\n",
    "# 예시로 required=True인 항목을 하나 추가해 보겠습니다\n",
    "base_cfg['must_set'] = Argument(\n",
    "    description='you must set this manually',\n",
    "    required=True,\n",
    "    default_value=None\n",
    ")\n",
    "print(\"\\n=== check_required_args 실행 (warning 발생 예상) ===\")\n",
    "base_cfg.check_required_args()\n",
    "\n",
    "# ────────────────────────────────────────────────────────────────────────\n",
    "# 5) ready_for_run(): assert_cfg → clean_unused_sub_cfgs → check_required_args → de_arguments\n",
    "# ────────────────────────────────────────────────────────────────────────\n",
    "print(\"\\n=== ready_for_run 실행 전 ===\")\n",
    "print(base_cfg)\n",
    "\n",
    "base_cfg.ready_for_run()\n",
    "print(\"\\n=== ready_for_run 실행 후 ===\")\n",
    "print(base_cfg)\n",
    "#  - optimizer.use=False → optimizer.type/momentum 삭제\n",
    "#  - special_flag: Argument → True\n",
    "#  - must_set(required) 경고 (value=None)\n",
    "\n",
    "# ────────────────────────────────────────────────────────────────────────\n",
    "# 6) freeze(): ready_for_run 후 불변화, config.yaml 저장, wandb 업데이트\n",
    "# ────────────────────────────────────────────────────────────────────────\n",
    "# (outdir 디렉토리를 지워 두었다가 실행해 보세요)\n",
    "if os.path.isdir(base_cfg.outdir):\n",
    "    print(f\"** 경고: '{base_cfg.outdir}' 디렉토리가 이미 존재합니다. 삭제 후 다시 시도하세요.\")\n",
    "else:\n",
    "    base_cfg.freeze(save=True, inform=True)\n",
    "    print(f\"config.yaml 이 {base_cfg.outdir}/config.yaml 로 저장되었습니다.\")\n"
   ]
  },
  {
   "cell_type": "code",
   "execution_count": null,
   "id": "8eac4819",
   "metadata": {},
   "outputs": [],
   "source": []
  },
  {
   "cell_type": "code",
   "execution_count": null,
   "id": "907e4a25",
   "metadata": {},
   "outputs": [],
   "source": []
  }
 ],
 "metadata": {
  "kernelspec": {
   "display_name": "flexlora",
   "language": "python",
   "name": "python3"
  },
  "language_info": {
   "codemirror_mode": {
    "name": "ipython",
    "version": 3
   },
   "file_extension": ".py",
   "mimetype": "text/x-python",
   "name": "python",
   "nbconvert_exporter": "python",
   "pygments_lexer": "ipython3",
   "version": "3.9.21"
  }
 },
 "nbformat": 4,
 "nbformat_minor": 5
}
