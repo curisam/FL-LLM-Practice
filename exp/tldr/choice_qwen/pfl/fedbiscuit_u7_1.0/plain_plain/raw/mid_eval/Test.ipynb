{
 "cells": [
  {
   "cell_type": "code",
   "execution_count": 1,
   "id": "c556be5c",
   "metadata": {},
   "outputs": [],
   "source": [
    "import json\n",
    "import os, statistics, math\n",
    "\n",
    "def extract_step_to_acc(path: str):\n",
    "    \"\"\"\n",
    "    Read a raw metrics file and return {step: test_acc} from even-numbered lines only.\n",
    "    - 1-based line numbering (keep only even lines)\n",
    "    - JSON parse; keep only split == 'test'\n",
    "    - Map: step -> acc (latest occurrence wins if duplicated)\n",
    "    \"\"\"\n",
    "    result = {}\n",
    "    with open(path, \"r\", encoding=\"utf-8\") as f:\n",
    "        for i, line in enumerate(f, start=1):  # 1-based\n",
    "            line = line.strip()\n",
    "            if not line or (i % 2 != 0):  # skip odd lines\n",
    "                continue\n",
    "            try:\n",
    "                obj = json.loads(line)\n",
    "            except json.JSONDecodeError:\n",
    "                continue\n",
    "            if obj.get(\"split\") != \"test\":\n",
    "                continue\n",
    "            step = obj.get(\"step\")\n",
    "            acc = obj.get(\"acc\")\n",
    "            if step is not None and acc is not None:\n",
    "                result[step] = acc  # latest one wins\n",
    "    return result"
   ]
  },
  {
   "cell_type": "code",
   "execution_count": 2,
   "id": "c79f6e00",
   "metadata": {},
   "outputs": [],
   "source": [
    "def summarize_by_step(root='.', start=1, end=53, prefix='client_', ext='.raw',\n",
    "                      variance='population', step_keys=None, require_all=False):\n",
    "    \"\"\"\n",
    "    Aggregate across clients PER STEP and return TWO dictionaries:\n",
    "      - mean_by_step: {step: mean_test_acc_over_clients}\n",
    "      - var_by_step:  {step: variance_test_acc_over_clients}\n",
    "\n",
    "    Parameters:\n",
    "      - variance: 'population' (statistics.pvariance) | 'sample' (statistics.variance)\n",
    "      - step_keys: optional iterable of steps to enforce (e.g., [0,10,20,...,100]).\n",
    "                   If None, uses the union of steps observed across clients.\n",
    "      - require_all: if True, only include a step if ALL clients have a value for it.\n",
    "                     If False, compute from available values.\n",
    "\n",
    "    Notes:\n",
    "      - Uses extract_step_to_acc(path) from earlier cell (even-line, split=='test').\n",
    "      - Missing files or missing steps are ignored per 'require_all' policy.\n",
    "    \"\"\"\n",
    "    # Collect per-step lists of accuracies across clients\n",
    "    accs_by_step = {}\n",
    "    client_count = 0\n",
    "    for i in range(start, end + 1):\n",
    "        path = os.path.join(root, f\"{prefix}{i:03d}{ext}\")\n",
    "        try:\n",
    "            d = extract_step_to_acc(path)\n",
    "        except FileNotFoundError:\n",
    "            # Missing client file; skip\n",
    "            continue\n",
    "        client_count += 1\n",
    "        for step, acc in d.items():\n",
    "            accs_by_step.setdefault(step, []).append(acc)\n",
    "\n",
    "    # Decide which steps to include\n",
    "    if step_keys is None:\n",
    "        steps = sorted(accs_by_step.keys())\n",
    "    else:\n",
    "        steps = list(step_keys)\n",
    "\n",
    "    mean_by_step = {}\n",
    "    var_by_step  = {}\n",
    "    for step in steps:\n",
    "        vals = accs_by_step.get(step, [])\n",
    "        if not vals:\n",
    "            continue  # no data at this step\n",
    "        if require_all and len(vals) != client_count:\n",
    "            # Skip this step because not all clients provided it\n",
    "            continue\n",
    "        m = sum(vals) / len(vals)\n",
    "        if variance == 'population':\n",
    "            v = statistics.pvariance(vals)\n",
    "        elif variance == 'sample':\n",
    "            v = statistics.variance(vals) if len(vals) > 1 else float('nan')\n",
    "        else:\n",
    "            raise ValueError(\"variance must be 'population' or 'sample'\")\n",
    "        mean_by_step[step] = m\n",
    "        var_by_step[step]  = v\n",
    "    return mean_by_step, var_by_step"
   ]
  },
  {
   "cell_type": "code",
   "execution_count": 3,
   "id": "25b7d0f8",
   "metadata": {},
   "outputs": [
    {
     "name": "stdout",
     "output_type": "stream",
     "text": [
      "{0: 0.5839622641509434, 10: 0.5641509433962264, 20: 0.555188679245283, 30: 0.5721698113207546, 40: 0.5589622641509433, 50: 0.5716981132075472, 60: 0.5839622641509434, 70: 0.585377358490566, 80: 0.5877358490566036, 90: 0.5759433962264152, 100: 0.5698113207547169}\n",
      "{0: 0.007431470274118904, 10: 0.006993147027411892, 20: 0.007508454966180135, 30: 0.00895425418298327, 40: 0.0075493948024207905, 50: 0.008302776788892845, 60: 0.007337130651477395, 70: 0.006873442506229976, 80: 0.008882609469562121, 90: 0.008984959060163758, 100: 0.006517888928444285}\n"
     ]
    }
   ],
   "source": [
    "mean_dict, var_dict = summarize_by_step(root='.', start=1, end=53)\n",
    "print(mean_dict)\n",
    "print(var_dict)"
   ]
  },
  {
   "cell_type": "code",
   "execution_count": null,
   "id": "f49078cb",
   "metadata": {},
   "outputs": [],
   "source": []
  }
 ],
 "metadata": {
  "kernelspec": {
   "display_name": "fedfn",
   "language": "python",
   "name": "fedfn"
  },
  "language_info": {
   "codemirror_mode": {
    "name": "ipython",
    "version": 3
   },
   "file_extension": ".py",
   "mimetype": "text/x-python",
   "name": "python",
   "nbconvert_exporter": "python",
   "pygments_lexer": "ipython3",
   "version": "3.7.16"
  }
 },
 "nbformat": 4,
 "nbformat_minor": 5
}
