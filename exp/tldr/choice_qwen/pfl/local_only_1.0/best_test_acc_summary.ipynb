{
 "cells": [
  {
   "cell_type": "code",
   "execution_count": 1,
   "id": "c2550f12",
   "metadata": {},
   "outputs": [
    {
     "name": "stdout",
     "output_type": "stream",
     "text": [
      "총 53명 수집됨\n",
      "client 001: 0.775000\n",
      "client 002: 0.650000\n",
      "client 003: 0.600000\n",
      "client 004: 0.625000\n",
      "client 005: 0.750000\n",
      "client 006: 0.650000\n",
      "client 007: 0.700000\n",
      "client 008: 0.575000\n",
      "client 009: 0.725000\n",
      "client 010: 0.875000\n",
      "client 011: 0.625000\n",
      "client 012: 0.700000\n",
      "client 013: 0.750000\n",
      "client 014: 0.725000\n",
      "client 015: 0.675000\n",
      "client 016: 0.675000\n",
      "client 017: 0.650000\n",
      "client 018: 0.775000\n",
      "client 019: 0.750000\n",
      "client 020: 0.750000\n",
      "client 021: 0.725000\n",
      "client 022: 0.725000\n",
      "client 023: 0.750000\n",
      "client 024: 0.625000\n",
      "client 025: 0.600000\n",
      "client 026: 0.750000\n",
      "client 027: 0.650000\n",
      "client 028: 0.825000\n",
      "client 029: 0.775000\n",
      "client 030: 0.675000\n",
      "client 031: 0.700000\n",
      "client 032: 0.650000\n",
      "client 033: 0.675000\n",
      "client 034: 0.775000\n",
      "client 035: 0.700000\n",
      "client 036: 0.675000\n",
      "client 037: 0.650000\n",
      "client 038: 0.700000\n",
      "client 039: 0.625000\n",
      "client 040: 0.675000\n",
      "client 041: 0.700000\n",
      "client 042: 0.750000\n",
      "client 043: 0.725000\n",
      "client 044: 0.700000\n",
      "client 045: 0.675000\n",
      "client 046: 0.750000\n",
      "client 047: 0.700000\n",
      "client 048: 0.725000\n",
      "client 049: 0.675000\n",
      "client 050: 0.550000\n",
      "client 051: 0.800000\n",
      "client 052: 0.750000\n",
      "client 053: 0.650000\n"
     ]
    }
   ],
   "source": [
    "import os, glob, json, re\n",
    "from collections import defaultdict\n",
    "\n",
    "def best_test_acc_per_client(raw_dir=\"runs/mid_eval\", pattern=\"client_*.raw\"):\n",
    "    paths = sorted(glob.glob(os.path.join(raw_dir, pattern)))\n",
    "    if not paths:\n",
    "        raise FileNotFoundError(f\"No files matched: {os.path.join(raw_dir, pattern)}\")\n",
    "    \n",
    "    best = {}  # {client_id: best_acc}\n",
    "    for p in paths:\n",
    "        # 파일명에서 client id 추출 (예: client_001.raw -> 1)\n",
    "        m = re.search(r\"client_(\\d+)\\.raw$\", os.path.basename(p))\n",
    "        file_client_id = int(m.group(1)) if m else None\n",
    "\n",
    "        best_acc = None\n",
    "        with open(p, \"r\", encoding=\"utf-8\") as f:\n",
    "            for line in f:\n",
    "                line = line.strip()\n",
    "                if not line:\n",
    "                    continue\n",
    "                try:\n",
    "                    rec = json.loads(line)\n",
    "                except json.JSONDecodeError:\n",
    "                    continue\n",
    "                if rec.get(\"split\") != \"test\":\n",
    "                    continue\n",
    "                # client id는 레코드에 있으면 그걸 우선 사용, 없으면 파일명에서 추출\n",
    "                cid = int(rec.get(\"client\", file_client_id))\n",
    "                acc = float(rec.get(\"acc\", float(\"nan\")))\n",
    "                if acc != acc:  # NaN check\n",
    "                    continue\n",
    "                if (best_acc is None) or (acc > best_acc):\n",
    "                    best_acc = acc\n",
    "        if best_acc is not None:\n",
    "            best[cid] = best_acc\n",
    "        else:\n",
    "            # test가 전혀 없거나 전부 NaN이면 0.0 같은 기본값으로 넣고 싶다면 아래 주석 해제\n",
    "            # best[file_client_id if file_client_id is not None else len(best)+1] = 0.0\n",
    "            pass\n",
    "    return best\n",
    "\n",
    "best_dict = best_test_acc_per_client(raw_dir=\"raw/mid_eval\", pattern=\"client_*.raw\")\n",
    "print(f\"총 {len(best_dict)}명 수집됨\")\n",
    "# 확인용: client id 기준 정렬 출력\n",
    "for cid in sorted(best_dict):\n",
    "    print(f\"client {cid:03d}: {best_dict[cid]:.6f}\")\n"
   ]
  },
  {
   "cell_type": "code",
   "execution_count": 2,
   "id": "46edec4d",
   "metadata": {},
   "outputs": [
    {
     "name": "stdout",
     "output_type": "stream",
     "text": [
      "dict_values([0.775, 0.65, 0.6, 0.625, 0.75, 0.65, 0.7, 0.575, 0.725, 0.875, 0.625, 0.7, 0.75, 0.725, 0.675, 0.675, 0.65, 0.775, 0.75, 0.75, 0.725, 0.725, 0.75, 0.625, 0.6, 0.75, 0.65, 0.825, 0.775, 0.675, 0.7, 0.65, 0.675, 0.775, 0.7, 0.675, 0.65, 0.7, 0.625, 0.675, 0.7, 0.75, 0.725, 0.7, 0.675, 0.75, 0.7, 0.725, 0.675, 0.55, 0.8, 0.75, 0.65])\n"
     ]
    }
   ],
   "source": [
    "print(best_dict.values())"
   ]
  },
  {
   "cell_type": "code",
   "execution_count": 3,
   "id": "4fce7281",
   "metadata": {},
   "outputs": [
    {
     "name": "stdout",
     "output_type": "stream",
     "text": [
      "0.6995283018867923\n"
     ]
    }
   ],
   "source": [
    "print(sum(best_dict.values())/len(best_dict.values()))"
   ]
  },
  {
   "cell_type": "code",
   "execution_count": null,
   "id": "e7309e70",
   "metadata": {},
   "outputs": [],
   "source": []
  },
  {
   "cell_type": "code",
   "execution_count": null,
   "id": "2ae4a861",
   "metadata": {},
   "outputs": [],
   "source": []
  }
 ],
 "metadata": {
  "kernelspec": {
   "display_name": "fedfn",
   "language": "python",
   "name": "fedfn"
  },
  "language_info": {
   "codemirror_mode": {
    "name": "ipython",
    "version": 3
   },
   "file_extension": ".py",
   "mimetype": "text/x-python",
   "name": "python",
   "nbconvert_exporter": "python",
   "pygments_lexer": "ipython3",
   "version": "3.7.16"
  }
 },
 "nbformat": 4,
 "nbformat_minor": 5
}
