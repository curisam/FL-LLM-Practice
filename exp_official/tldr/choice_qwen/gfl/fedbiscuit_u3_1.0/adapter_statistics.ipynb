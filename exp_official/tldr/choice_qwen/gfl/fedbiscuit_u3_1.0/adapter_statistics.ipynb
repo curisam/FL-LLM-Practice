{
 "cells": [
  {
   "cell_type": "code",
   "execution_count": 1,
   "id": "c3e0ada8",
   "metadata": {},
   "outputs": [
    {
     "name": "stdout",
     "output_type": "stream",
     "text": [
      "Round    0: n= 53  mean_test_acc=0.533019\n",
      "Round   25: n= 53  mean_test_acc=0.540566\n",
      "Round   50: n= 53  mean_test_acc=0.552358\n",
      "Round   75: n= 53  mean_test_acc=0.554717\n",
      "Round  100: n= 53  mean_test_acc=0.576415\n",
      "Round  125: n= 53  mean_test_acc=0.578302\n",
      "Round  150: n= 53  mean_test_acc=0.577358\n",
      "Saved: mean_test_acc_per_round.csv\n"
     ]
    }
   ],
   "source": [
    "import json\n",
    "from collections import defaultdict\n",
    "import csv\n",
    "\n",
    "path = \"adapter_eval_result.raw\"\n",
    "\n",
    "best_per_rc = {}  # key=(round, client_id) -> {'val_loss','test_acc','adapter_idx'}\n",
    "\n",
    "with open(path, \"r\", encoding=\"utf-8\") as f:\n",
    "    for line in f:\n",
    "        line = line.strip()\n",
    "        if not line:\n",
    "            continue\n",
    "        rec = json.loads(line)\n",
    "        rr = rec.get(\"Results_raw\", {})\n",
    "\n",
    "        rnd = rec.get(\"Round\", rr.get(\"round\"))\n",
    "        cid = rr.get(\"client_id\")\n",
    "        val_loss = rr.get(\"val_loss\")\n",
    "        test_acc = rr.get(\"test_acc\")\n",
    "        adapter_idx = rr.get(\"adapter_idx\")\n",
    "\n",
    "        if rnd is None or cid is None or val_loss is None or test_acc is None:\n",
    "            continue\n",
    "\n",
    "        key = (rnd, cid)\n",
    "        cur = best_per_rc.get(key)\n",
    "        # tie-breaker: val_loss 동일하면 test_acc가 큰 것 선택\n",
    "        if (cur is None\n",
    "            or (val_loss < cur[\"val_loss\"] - 1e-12)\n",
    "            or (abs(val_loss - cur[\"val_loss\"]) <= 1e-12 and test_acc > cur[\"test_acc\"])):\n",
    "            best_per_rc[key] = {\n",
    "                \"val_loss\": val_loss,\n",
    "                \"test_acc\": test_acc,\n",
    "                \"adapter_idx\": adapter_idx\n",
    "            }\n",
    "\n",
    "round_to_accs = defaultdict(list)\n",
    "for (rnd, _cid), info in best_per_rc.items():\n",
    "    round_to_accs[rnd].append(info[\"test_acc\"])\n",
    "\n",
    "rows = []\n",
    "for rnd in sorted(round_to_accs):\n",
    "    accs = round_to_accs[rnd]\n",
    "    mean_acc = (sum(accs) / len(accs)) if accs else float(\"nan\")  # ← fmean 대신\n",
    "    rows.append({\"round\": rnd, \"n_clients\": len(accs), \"mean_test_acc\": mean_acc})\n",
    "\n",
    "for r in rows:\n",
    "    print(f\"Round {r['round']:>4}: n={r['n_clients']:>3}  mean_test_acc={r['mean_test_acc']:.6f}\")\n",
    "\n",
    "with open(\"mean_test_acc_per_round.csv\", \"w\", newline=\"\", encoding=\"utf-8\") as wf:\n",
    "    writer = csv.DictWriter(wf, fieldnames=[\"round\", \"n_clients\", \"mean_test_acc\"])\n",
    "    writer.writeheader()\n",
    "    writer.writerows(rows)\n",
    "print(\"Saved: mean_test_acc_per_round.csv\")\n"
   ]
  }
 ],
 "metadata": {
  "kernelspec": {
   "display_name": "fedfn",
   "language": "python",
   "name": "fedfn"
  },
  "language_info": {
   "codemirror_mode": {
    "name": "ipython",
    "version": 3
   },
   "file_extension": ".py",
   "mimetype": "text/x-python",
   "name": "python",
   "nbconvert_exporter": "python",
   "pygments_lexer": "ipython3",
   "version": "3.7.16"
  }
 },
 "nbformat": 4,
 "nbformat_minor": 5
}
