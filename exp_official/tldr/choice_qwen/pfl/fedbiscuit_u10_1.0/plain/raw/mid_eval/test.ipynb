{
 "cells": [
  {
   "cell_type": "code",
   "execution_count": 1,
   "id": "c556be5c",
   "metadata": {},
   "outputs": [],
   "source": [
    "import json\n",
    "import os, statistics, math\n",
    "\n",
    "def extract_step_to_acc(path: str):\n",
    "    \"\"\"\n",
    "    Read a raw metrics file and return {step: test_acc} from even-numbered lines only.\n",
    "    - 1-based line numbering (keep only even lines)\n",
    "    - JSON parse; keep only split == 'test'\n",
    "    - Map: step -> acc (latest occurrence wins if duplicated)\n",
    "    \"\"\"\n",
    "    result = {}\n",
    "    with open(path, \"r\", encoding=\"utf-8\") as f:\n",
    "        for i, line in enumerate(f, start=1):  # 1-based\n",
    "            line = line.strip()\n",
    "            if not line or (i % 2 != 0):  # skip odd lines\n",
    "                continue\n",
    "            try:\n",
    "                obj = json.loads(line)\n",
    "            except json.JSONDecodeError:\n",
    "                continue\n",
    "            if obj.get(\"split\") != \"test\":\n",
    "                continue\n",
    "            step = obj.get(\"step\")\n",
    "            acc = obj.get(\"acc\")\n",
    "            if step is not None and acc is not None:\n",
    "                result[step] = acc  # latest one wins\n",
    "    return result"
   ]
  },
  {
   "cell_type": "code",
   "execution_count": 2,
   "id": "c79f6e00",
   "metadata": {},
   "outputs": [],
   "source": [
    "def summarize_by_step(root='.', start=1, end=53, prefix='client_', ext='.raw',\n",
    "                      variance='population', step_keys=None, require_all=False):\n",
    "    \"\"\"\n",
    "    Aggregate across clients PER STEP and return TWO dictionaries:\n",
    "      - mean_by_step: {step: mean_test_acc_over_clients}\n",
    "      - var_by_step:  {step: variance_test_acc_over_clients}\n",
    "\n",
    "    Parameters:\n",
    "      - variance: 'population' (statistics.pvariance) | 'sample' (statistics.variance)\n",
    "      - step_keys: optional iterable of steps to enforce (e.g., [0,10,20,...,100]).\n",
    "                   If None, uses the union of steps observed across clients.\n",
    "      - require_all: if True, only include a step if ALL clients have a value for it.\n",
    "                     If False, compute from available values.\n",
    "\n",
    "    Notes:\n",
    "      - Uses extract_step_to_acc(path) from earlier cell (even-line, split=='test').\n",
    "      - Missing files or missing steps are ignored per 'require_all' policy.\n",
    "    \"\"\"\n",
    "    # Collect per-step lists of accuracies across clients\n",
    "    accs_by_step = {}\n",
    "    client_count = 0\n",
    "    for i in range(start, end + 1):\n",
    "        path = os.path.join(root, f\"{prefix}{i:03d}{ext}\")\n",
    "        try:\n",
    "            d = extract_step_to_acc(path)\n",
    "        except FileNotFoundError:\n",
    "            # Missing client file; skip\n",
    "            continue\n",
    "        client_count += 1\n",
    "        for step, acc in d.items():\n",
    "            accs_by_step.setdefault(step, []).append(acc)\n",
    "\n",
    "    # Decide which steps to include\n",
    "    if step_keys is None:\n",
    "        steps = sorted(accs_by_step.keys())\n",
    "    else:\n",
    "        steps = list(step_keys)\n",
    "\n",
    "    mean_by_step = {}\n",
    "    var_by_step  = {}\n",
    "    for step in steps:\n",
    "        vals = accs_by_step.get(step, [])\n",
    "        if not vals:\n",
    "            continue  # no data at this step\n",
    "        if require_all and len(vals) != client_count:\n",
    "            # Skip this step because not all clients provided it\n",
    "            continue\n",
    "        m = sum(vals) / len(vals)\n",
    "        if variance == 'population':\n",
    "            v = statistics.pvariance(vals)\n",
    "        elif variance == 'sample':\n",
    "            v = statistics.variance(vals) if len(vals) > 1 else float('nan')\n",
    "        else:\n",
    "            raise ValueError(\"variance must be 'population' or 'sample'\")\n",
    "        mean_by_step[step] = m\n",
    "        var_by_step[step]  = v\n",
    "    return mean_by_step, var_by_step"
   ]
  },
  {
   "cell_type": "code",
   "execution_count": 3,
   "id": "25b7d0f8",
   "metadata": {},
   "outputs": [
    {
     "name": "stdout",
     "output_type": "stream",
     "text": [
      "{0: 0.5660377358490565, 10: 0.5438679245283018, 20: 0.5547169811320753, 30: 0.5570754716981133, 40: 0.5570754716981133, 50: 0.5570754716981132, 60: 0.57688679245283, 70: 0.5702830188679244, 80: 0.5735849056603772, 90: 0.5712264150943397, 100: 0.5759433962264152}\n",
      "{0: 0.007054111783552865, 10: 0.005634567461730153, 20: 0.005732467070131719, 30: 0.006683428266286935, 40: 0.005645692417230332, 50: 0.006565503737985048, 60: 0.005562477750088998, 70: 0.005190014239943042, 80: 0.005505072979708081, 90: 0.006801797792808828, 100: 0.004881185475258099}\n"
     ]
    }
   ],
   "source": [
    "mean_dict, var_dict = summarize_by_step(root='.', start=1, end=53)\n",
    "print(mean_dict)\n",
    "print(var_dict)"
   ]
  },
  {
   "cell_type": "code",
   "execution_count": 5,
   "id": "27253f1d",
   "metadata": {},
   "outputs": [
    {
     "name": "stdout",
     "output_type": "stream",
     "text": [
      "{1: 0.625, 2: 0.55, 3: 0.6, 4: 0.325, 5: 0.625, 6: 0.425, 7: 0.75, 8: 0.575, 9: 0.6, 10: 0.475, 11: 0.575, 12: 0.625, 13: 0.55, 14: 0.625, 15: 0.65, 16: 0.575, 17: 0.575, 18: 0.7, 19: 0.425, 20: 0.625, 21: 0.525, 22: 0.425, 23: 0.6, 24: 0.275, 25: 0.55, 26: 0.625, 27: 0.625, 28: 0.575, 29: 0.625, 30: 0.525, 31: 0.55, 32: 0.55, 33: 0.625, 34: 0.55, 35: 0.575, 36: 0.65, 37: 0.6, 38: 0.525, 39: 0.5, 40: 0.525, 41: 0.6, 42: 0.65, 43: 0.575, 44: 0.675, 45: 0.475, 46: 0.625, 47: 0.525, 48: 0.6, 49: 0.5, 50: 0.525, 51: 0.575, 52: 0.65, 53: 0.55}\n"
     ]
    }
   ],
   "source": [
    "import os\n",
    "import math\n",
    "\n",
    "def step0_by_client(root='.', start=1, end=53, prefix='client_', ext='.raw'):\n",
    "    \"\"\"\n",
    "    ./client_001.raw ~ ./client_053.raw을 순회해\n",
    "    {클라번호: step0의 test acc} 딕셔너리를 반환.\n",
    "    값이 없거나 파일이 없으면 NaN.\n",
    "    \"\"\"\n",
    "    out = {}\n",
    "    for i in range(start, end + 1):\n",
    "        path = os.path.join(root, f\"{prefix}{i:03d}{ext}\")\n",
    "        try:\n",
    "            d = extract_step_to_acc(path)   # {step: acc}\n",
    "        except FileNotFoundError:\n",
    "            out[i] = float('nan')\n",
    "            continue\n",
    "        out[i] = d.get(0, float('nan'))\n",
    "    return out\n",
    "\n",
    "# 사용 예:\n",
    "step0 = step0_by_client(root='.', start=1, end=53)\n",
    "print(step0)"
   ]
  }
 ],
 "metadata": {
  "kernelspec": {
   "display_name": "fedfn",
   "language": "python",
   "name": "fedfn"
  },
  "language_info": {
   "codemirror_mode": {
    "name": "ipython",
    "version": 3
   },
   "file_extension": ".py",
   "mimetype": "text/x-python",
   "name": "python",
   "nbconvert_exporter": "python",
   "pygments_lexer": "ipython3",
   "version": "3.7.16"
  }
 },
 "nbformat": 4,
 "nbformat_minor": 5
}
